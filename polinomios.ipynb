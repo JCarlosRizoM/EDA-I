{
 "cells": [
  {
   "cell_type": "code",
   "execution_count": 13,
   "metadata": {},
   "outputs": [
    {
     "name": "stdout",
     "output_type": "stream",
     "text": [
      "1. Suma de polinomios.\n",
      "2. Resta de polinomios.\n",
      "3. Multiplicacion de polinomios.\n",
      "4. Potencia de polinomios.\n",
      "¿Que operacion desea realizar? 4\n",
      "\n",
      "\n",
      "Primer polinomio: x**2+2*x+3\n",
      "Potencia: 3\n",
      "\n",
      "\n",
      "Resultado:  Poly(x**6 + 6*x**5 + 21*x**4 + 44*x**3 + 63*x**2 + 54*x + 27, x, domain='ZZ')\n"
     ]
    }
   ],
   "source": [
    "import sympy\n",
    "sympy.init_printing()\n",
    "x = sympy.symbols('x')\n",
    "\n",
    "def suma(P1,P2):\n",
    "    return P1+P2\n",
    "\n",
    "def resta(P1,P2):\n",
    "    return P1-P2\n",
    "\n",
    "def multi(P1,P2):\n",
    "    return P1*P2\n",
    "\n",
    "def pot(P1,P):\n",
    "    P3=P1\n",
    "    for i in range(1,P,1):\n",
    "        P3=P3*P1\n",
    "    return P3\n",
    "\n",
    "print(\"1. Suma de polinomios.\")\n",
    "print(\"2. Resta de polinomios.\")\n",
    "print(\"3. Multiplicacion de polinomios.\")\n",
    "print(\"4. Potencia de polinomios.\")\n",
    "a=int(input(\"¿Que operacion desea realizar? \"))\n",
    "print(\"\\n\")\n",
    "\n",
    "if a==1:\n",
    "    P1 = input(\"Primer polinomio: \")\n",
    "    P2 = input(\"Segundo polinomio: \")\n",
    "    print(\"\\n\")\n",
    "    Poly1 = sympy.Poly(P1)\n",
    "    Poly2 = sympy.Poly(P2)\n",
    "    \n",
    "    print(\"Resultado: \", suma(Poly1,Poly2))\n",
    "        \n",
    "elif a==2:\n",
    "    P1 = input(\"Primer polinomio: \")\n",
    "    P2 = input(\"Segundo polinomio: \")\n",
    "    print(\"\\n\")\n",
    "    Poly1 = sympy.Poly(P1)\n",
    "    Poly2 = sympy.Poly(P2)\n",
    "    \n",
    "    print(\"Resultado: \", resta(Poly1,Poly2))        \n",
    "\n",
    "elif a==3:\n",
    "    P1 = input(\"Primer polinomio: \")\n",
    "    P2 = input(\"Segundo polinomio: \")\n",
    "    print(\"\\n\")\n",
    "    Poly1 = sympy.Poly(P1)\n",
    "    Poly2 = sympy.Poly(P2)\n",
    "    \n",
    "    print(\"Resultado: \", multi(Poly1,Poly2))\n",
    "        \n",
    "elif a==4:\n",
    "    P1 = input(\"Primer polinomio: \")\n",
    "    P = int(input(\"Potencia: \"))\n",
    "    print(\"\\n\")\n",
    "    Poly1 = sympy.Poly(P1)\n",
    "    \n",
    "    print(\"Resultado: \", pot(Poly1,P))\n",
    "    \n",
    "else:\n",
    "    print(\"Error\")"
   ]
  },
  {
   "cell_type": "code",
   "execution_count": null,
   "metadata": {},
   "outputs": [],
   "source": []
  },
  {
   "cell_type": "code",
   "execution_count": null,
   "metadata": {},
   "outputs": [],
   "source": []
  }
 ],
 "metadata": {
  "kernelspec": {
   "display_name": "Python 3",
   "language": "python",
   "name": "python3"
  },
  "language_info": {
   "codemirror_mode": {
    "name": "ipython",
    "version": 3
   },
   "file_extension": ".py",
   "mimetype": "text/x-python",
   "name": "python",
   "nbconvert_exporter": "python",
   "pygments_lexer": "ipython3",
   "version": "3.7.3"
  }
 },
 "nbformat": 4,
 "nbformat_minor": 2
}
